{
 "cells": [
  {
   "cell_type": "markdown",
   "metadata": {},
   "source": [
    "### **Part 1: Theoretical Questions**\n",
    "\n",
    "1. **What are the different data structures used in Tensorflow ?. Give some examples.**\n",
    "\n",
    "2. **How does the TensorFlow constant differ from a TensorFlow variable? Explain with an example.**\n",
    "\n",
    "3. **Describe the process of matrix addition, multiplication, and element-wise operations in TensorFlow.**"
   ]
  },
  {
   "cell_type": "markdown",
   "metadata": {},
   "source": [
    "**Ans :-**"
   ]
  },
  {
   "cell_type": "markdown",
   "metadata": {},
   "source": [
    "#### 1. **Different Data Structures Used in TensorFlow**\n",
    "\n",
    "  -  TensorFlow uses a variety of data structures for handling data, including :\n",
    "\n",
    "      - **Tensors -** The fundamental data structure in TensorFlow. It is a multi-dimensional array of elements. Tensors have a rank (number of dimensions), shape (size of each dimension), and data type (such as `float32`, `int32`, etc.). Tensors are used for almost every operation in TensorFlow.\n",
    "        \n",
    "        - **Example :** `tf.Tensor([1, 2, 3], dtype=tf.float32)` \n",
    "\n",
    "      - **Variables -** A mutable tensor that can be updated during model training. Variables store the state of a model, such as weights and biases in neural networks.\n",
    "        \n",
    "        - **Example :** `tf.Variable([1, 2, 3], dtype=tf.float32)`\n",
    "\n",
    "      - **Constants -** Immutable tensors whose values are set at the start and cannot be changed.\n",
    "        \n",
    "        - **Example :** `tf.constant([1, 2, 3], dtype=tf.float32)`\n",
    "\n",
    "      - **Placeholders (Deprecated) -** Previously, placeholders were used to feed external data during model execution, but now replaced by `tf.function` and eager execution.\n",
    "        \n",
    "        - **Example (Old) :** `tf.placeholder(tf.float32)`\n",
    "\n",
    "      - **Sparse Tensors -** A tensor that is primarily filled with zeros, useful for memory efficiency.\n",
    "        \n",
    "        - **Example :** `tf.SparseTensor(indices=[[0, 0], [1, 2]], values=[1, 2], dense_shape=[3, 4])`\n",
    "\n",
    "      - **Ragged Tensors -** Tensors with variable-length dimensions.\n",
    "        \n",
    "        - **Example :** `tf.RaggedTensor.from_row_splits(values=[1, 2, 3, 4, 5], row_splits=[0, 3, 5])`\n",
    "\n",
    "      - **TensorArray -** Used for dynamic computation graphs, for storing lists of tensors that might change during graph execution.\n",
    "       \n",
    "        - **Example :** `tf.TensorArray(dtype=tf.float32, size=3)`"
   ]
  },
  {
   "cell_type": "markdown",
   "metadata": {},
   "source": [
    "#### 2. **Difference Between TensorFlow Constant and TensorFlow Variable**\n",
    "\n",
    "  - **TensorFlow Constant -**\n",
    "    \n",
    "    - **Immutable :** The value of a constant is fixed at the time of creation and cannot be changed.\n",
    "    \n",
    "    - **Usage**: Best suited for storing values that remain the same throughout the execution, such as configuration values or fixed hyperparameters.\n",
    "\n",
    "  - **TensorFlow Variable -**\n",
    "    \n",
    "    - **Mutable :** Variables allow their values to be updated during the model's training process, such as weights or biases.\n",
    "    \n",
    "    - **Usage :** Used to store parameters that need to be updated, such as model weights during backpropagation in neural networks.\n",
    "\n",
    "**Key Difference -** Constants are immutable and cannot be changed once assigned, while variables can be updated and changed throughout the execution of the model.\n",
    "\n",
    "**Example -**"
   ]
  },
  {
   "cell_type": "code",
   "execution_count": 14,
   "metadata": {},
   "outputs": [
    {
     "name": "stdout",
     "output_type": "stream",
     "text": [
      "TensorFlow Constant :-\n",
      "tf.Tensor(5.0, shape=(), dtype=float32)\n",
      "\n",
      "TensorFlow Variable :-\n",
      "<tf.Variable 'Variable:0' shape=() dtype=float32, numpy=5.0>\n",
      "<tf.Variable 'Variable:0' shape=() dtype=float32, numpy=10.0>\n"
     ]
    }
   ],
   "source": [
    "import tensorflow as tf\n",
    "const = tf.constant(5.0)\n",
    "print(f\"TensorFlow Constant :-\")\n",
    "print(const)\n",
    "\n",
    "var = tf.Variable(5.0)\n",
    "print(f\"\\nTensorFlow Variable :-\")\n",
    "print(var)\n",
    "  \n",
    "  # Updating the variable\n",
    "var.assign(10.0)\n",
    "print(var)"
   ]
  },
  {
   "cell_type": "markdown",
   "metadata": {},
   "source": [
    "#### 3. **Matrix Operations in TensorFlow**\n",
    "\n",
    "- **Matrix Addition -** Matrix addition in TensorFlow is done element-wise between two tensors of the same shape.\n",
    "\n",
    "- **Matrix Multiplication -** Matrix multiplication is performed using the `tf.matmul()` function in TensorFlow, following the rules of matrix multiplication (dot product).\n",
    "\n",
    "- **Element-wise Operations -** Element-wise operations are performed by applying operations directly between tensors of the same shape. TensorFlow functions like `tf.multiply()` and `tf.add()` can be used.\n",
    "\n",
    "**Example -**"
   ]
  },
  {
   "cell_type": "code",
   "execution_count": 16,
   "metadata": {},
   "outputs": [
    {
     "name": "stdout",
     "output_type": "stream",
     "text": [
      "Matrix Addition :-\n",
      "tf.Tensor(\n",
      "[[ 6  8]\n",
      " [10 12]], shape=(2, 2), dtype=int32)\n",
      "\n",
      "Matrix Multiplication :-\n",
      "tf.Tensor(\n",
      "[[19 22]\n",
      " [43 50]], shape=(2, 2), dtype=int32)\n",
      "\n",
      "Element-wise Operations :-\n",
      "tf.Tensor(\n",
      "[[ 5 12]\n",
      " [21 32]], shape=(2, 2), dtype=int32)\n"
     ]
    }
   ],
   "source": [
    "import tensorflow as tf\n",
    "\n",
    "A = tf.constant([[1, 2], [3, 4]])\n",
    "B = tf.constant([[5, 6], [7, 8]])\n",
    "\n",
    "C = tf.add(A, B)  # Element-wise addition\n",
    "print(f\"Matrix Addition :-\")\n",
    "print(C)\n",
    "\n",
    "C = tf.matmul(A, B)  # Matrix multiplication\n",
    "print(f\"\\nMatrix Multiplication :-\")\n",
    "print(C)\n",
    "\n",
    "C = tf.multiply(A, B)  # Element-wise multiplication\n",
    "print(f\"\\nElement-wise Operations :-\")\n",
    "print(C)"
   ]
  },
  {
   "cell_type": "markdown",
   "metadata": {},
   "source": [
    "-------------------------------------------------------------------------------------------------------------------------------------------------------------------------------------"
   ]
  },
  {
   "cell_type": "markdown",
   "metadata": {},
   "source": [
    "### **Part 2: Practical Implementation**\n",
    "#### **Task 1: Creating and Manipulating Matrices**\n",
    "\n",
    "1. **Create a normal matrix A with dimensions 3x3, using TensorFlow's random_normal function. Display the values of matrix A.**\n",
    "\n",
    "2. **Create a Gaussian matrix B with dimensions 4x4, using TensorFlow's truncated_normal function. Display the values of matrix B.**\n",
    "\n",
    "3. **Create a matrix C with dimensions 2x2, where the values are drawn from a normal distribution with a mean of 3 and a standard deviation of 0.5, using TensorFlow's random.normal function. Display the values of matrix C.**\n",
    "\n",
    "4. **Perform matrix addition between matrix A and matrix B, and store the result in matrix D.**\n",
    "\n",
    "5. **Perform matrix multiplication between matrix C and matrix D, and store the result in matrix E.**\n",
    "\n",
    "#### **Task 2: Performing Additional Matrix Operations**\n",
    "\n",
    "1. **Create a matrix F with dimensions 3x3, initialized with random values using TensorFlow's random_uniform function.**\n",
    "\n",
    "2. **Calculate the transpose of matrix F and store the result in matrix G.**\n",
    "\n",
    "3. **Calculate the element-wise exponential of matrix F and store the result in matrix H.**\n",
    "\n",
    "4. **Create a matrix I by concatenating matrix F and matrix G horizontally.**\n",
    "\n",
    "5. **Create a matrix J by concatenating matrix F and matrix H vertically.**"
   ]
  },
  {
   "cell_type": "markdown",
   "metadata": {},
   "source": [
    "**Ans :-**"
   ]
  },
  {
   "cell_type": "markdown",
   "metadata": {},
   "source": [
    "#### **Import Necessary Libraries**"
   ]
  },
  {
   "cell_type": "code",
   "execution_count": 36,
   "metadata": {},
   "outputs": [],
   "source": [
    "import tensorflow as tf"
   ]
  },
  {
   "cell_type": "markdown",
   "metadata": {},
   "source": [
    "#### **Task 1: Creating and Manipulating Matrices**"
   ]
  },
  {
   "cell_type": "markdown",
   "metadata": {},
   "source": [
    "1. **Create a normal matrix A with dimensions 3x3 using TensorFlow's random_normal function**"
   ]
  },
  {
   "cell_type": "code",
   "execution_count": 46,
   "metadata": {},
   "outputs": [
    {
     "name": "stdout",
     "output_type": "stream",
     "text": [
      "Matrix A -\n",
      "[[ 0.52103037  0.0370561   1.166493  ]\n",
      " [-0.06264463  2.0344625   1.3230577 ]\n",
      " [ 1.2421511  -0.6378275  -0.5019292 ]]\n"
     ]
    }
   ],
   "source": [
    "A = tf.random.normal(shape=(3, 3))\n",
    "print(\"Matrix A -\")\n",
    "print(A.numpy())"
   ]
  },
  {
   "cell_type": "markdown",
   "metadata": {},
   "source": [
    "2. **Create a Gaussian matrix B with dimensions 4x4 using TensorFlow's truncated_normal function**"
   ]
  },
  {
   "cell_type": "code",
   "execution_count": 48,
   "metadata": {},
   "outputs": [
    {
     "name": "stdout",
     "output_type": "stream",
     "text": [
      "Matrix B -\n",
      "[[ 1.0881121  -0.4186427  -1.3011699 ]\n",
      " [ 1.2646016  -0.309021   -1.8083391 ]\n",
      " [ 0.36748448  0.46698555 -0.6090597 ]]\n"
     ]
    }
   ],
   "source": [
    "B = tf.random.truncated_normal(shape=(3, 3))\n",
    "print(\"Matrix B -\")\n",
    "print(B.numpy())"
   ]
  },
  {
   "cell_type": "markdown",
   "metadata": {},
   "source": [
    "3. **Create a matrix C with dimensions 2x2, with values drawn from a normal distribution with mean 3 and stddev 0.5**"
   ]
  },
  {
   "cell_type": "code",
   "execution_count": 49,
   "metadata": {},
   "outputs": [
    {
     "name": "stdout",
     "output_type": "stream",
     "text": [
      "Matrix C -\n",
      "[[2.5185537 3.117364 ]\n",
      " [3.6345057 3.5474246]\n",
      " [2.5503206 2.4992032]]\n"
     ]
    }
   ],
   "source": [
    "C = tf.random.normal(shape=(3, 2), mean=3.0, stddev=0.5)\n",
    "print(\"Matrix C -\")\n",
    "print(C.numpy())"
   ]
  },
  {
   "cell_type": "markdown",
   "metadata": {},
   "source": [
    "4. **Perform matrix addition between matrix A and matrix B, and store the result in matrix D**"
   ]
  },
  {
   "cell_type": "code",
   "execution_count": 51,
   "metadata": {},
   "outputs": [
    {
     "name": "stdout",
     "output_type": "stream",
     "text": [
      "Matrix D (A + B) -\n",
      "[[ 1.6091425  -0.3815866  -0.13467681]\n",
      " [ 1.201957    1.7254415  -0.48528147]\n",
      " [ 1.6096356  -0.17084196 -1.1109889 ]]\n"
     ]
    }
   ],
   "source": [
    "D = tf.add(A, B)\n",
    "print(\"Matrix D (A + B) -\")\n",
    "print(D.numpy())"
   ]
  },
  {
   "cell_type": "markdown",
   "metadata": {},
   "source": [
    "5. **Perform matrix multiplication between matrix C and matrix D, and store the result in matrix E**"
   ]
  },
  {
   "cell_type": "code",
   "execution_count": 53,
   "metadata": {},
   "outputs": [
    {
     "name": "stdout",
     "output_type": "stream",
     "text": [
      "Matrix E (C * D_adjusted) -\n",
      "[[-0.03733742  1.1686611   6.0744905 ]\n",
      " [ 0.26682985  1.4754949   7.7974567 ]\n",
      " [ 0.18386638  1.0375652   5.4816194 ]]\n"
     ]
    }
   ],
   "source": [
    "# Adjusting dimensions so that C has the same number of columns as D has rows\n",
    "D_adjusted = tf.random.normal(shape=(2, 3))  # Adjust D to have compatible dimensions with C\n",
    "E = tf.matmul(C, D_adjusted)\n",
    "print(\"Matrix E (C * D_adjusted) -\")\n",
    "print(E.numpy())"
   ]
  },
  {
   "cell_type": "markdown",
   "metadata": {},
   "source": [
    "#### **Task 2: Performing Additional Matrix Operations**"
   ]
  },
  {
   "cell_type": "markdown",
   "metadata": {},
   "source": [
    "1. **Create a matrix F with dimensions 3x3, initialized with random values using TensorFlow's random_uniform function.**"
   ]
  },
  {
   "cell_type": "code",
   "execution_count": 55,
   "metadata": {},
   "outputs": [
    {
     "name": "stdout",
     "output_type": "stream",
     "text": [
      "Matrix F -\n",
      " [[0.5993813  0.96921194 0.7094376 ]\n",
      " [0.0105319  0.7251221  0.27534592]\n",
      " [0.23653984 0.98289526 0.8611506 ]]\n"
     ]
    }
   ],
   "source": [
    "F = tf.random.uniform(shape=(3, 3), minval=0, maxval=1)\n",
    "print(\"Matrix F -\\n\", F.numpy())"
   ]
  },
  {
   "cell_type": "markdown",
   "metadata": {},
   "source": [
    "2. **Calculate the transpose of matrix F and store the result in matrix G.**"
   ]
  },
  {
   "cell_type": "code",
   "execution_count": 56,
   "metadata": {},
   "outputs": [
    {
     "name": "stdout",
     "output_type": "stream",
     "text": [
      "Matrix G (Transpose of F) -\n",
      " [[0.5993813  0.0105319  0.23653984]\n",
      " [0.96921194 0.7251221  0.98289526]\n",
      " [0.7094376  0.27534592 0.8611506 ]]\n"
     ]
    }
   ],
   "source": [
    "G = tf.transpose(F)\n",
    "print(\"Matrix G (Transpose of F) -\\n\", G.numpy())"
   ]
  },
  {
   "cell_type": "markdown",
   "metadata": {},
   "source": [
    "3. **Calculate the element-wise exponential of matrix F and store the result in matrix H.**"
   ]
  },
  {
   "cell_type": "code",
   "execution_count": 57,
   "metadata": {},
   "outputs": [
    {
     "name": "stdout",
     "output_type": "stream",
     "text": [
      "Matrix H (Element-wise Exponential of F) -\n",
      " [[1.8209919 2.6358664 2.0328476]\n",
      " [1.0105876 2.0649831 1.3169862]\n",
      " [1.266858  2.6721816 2.3658814]]\n"
     ]
    }
   ],
   "source": [
    "H = tf.exp(F)\n",
    "print(\"Matrix H (Element-wise Exponential of F) -\\n\", H.numpy())"
   ]
  },
  {
   "cell_type": "markdown",
   "metadata": {},
   "source": [
    "4. **Create a matrix I by concatenating matrix F and matrix G horizontally.**"
   ]
  },
  {
   "cell_type": "code",
   "execution_count": 58,
   "metadata": {},
   "outputs": [
    {
     "name": "stdout",
     "output_type": "stream",
     "text": [
      "Matrix I (F concatenated with G horizontally) -\n",
      " [[0.5993813  0.96921194 0.7094376  0.5993813  0.0105319  0.23653984]\n",
      " [0.0105319  0.7251221  0.27534592 0.96921194 0.7251221  0.98289526]\n",
      " [0.23653984 0.98289526 0.8611506  0.7094376  0.27534592 0.8611506 ]]\n"
     ]
    }
   ],
   "source": [
    "I = tf.concat([F, G], axis=1)\n",
    "print(\"Matrix I (F concatenated with G horizontally) -\\n\", I.numpy())"
   ]
  },
  {
   "cell_type": "markdown",
   "metadata": {},
   "source": [
    "5. **Create a matrix J by concatenating matrix F and matrix H vertically.**"
   ]
  },
  {
   "cell_type": "code",
   "execution_count": 59,
   "metadata": {},
   "outputs": [
    {
     "name": "stdout",
     "output_type": "stream",
     "text": [
      "Matrix J (F concatenated with H vertically) -\n",
      " [[0.5993813  0.96921194 0.7094376 ]\n",
      " [0.0105319  0.7251221  0.27534592]\n",
      " [0.23653984 0.98289526 0.8611506 ]\n",
      " [1.8209919  2.6358664  2.0328476 ]\n",
      " [1.0105876  2.0649831  1.3169862 ]\n",
      " [1.266858   2.6721816  2.3658814 ]]\n"
     ]
    }
   ],
   "source": [
    "J = tf.concat([F, H], axis=0)\n",
    "print(\"Matrix J (F concatenated with H vertically) -\\n\", J.numpy())"
   ]
  }
 ],
 "metadata": {
  "kernelspec": {
   "display_name": "Python 3",
   "language": "python",
   "name": "python3"
  },
  "language_info": {
   "codemirror_mode": {
    "name": "ipython",
    "version": 3
   },
   "file_extension": ".py",
   "mimetype": "text/x-python",
   "name": "python",
   "nbconvert_exporter": "python",
   "pygments_lexer": "ipython3",
   "version": "3.12.2"
  }
 },
 "nbformat": 4,
 "nbformat_minor": 2
}
